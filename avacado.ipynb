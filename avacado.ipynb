{
 "cells": [
  {
   "cell_type": "code",
   "execution_count": 7,
   "id": "b7c4b167",
   "metadata": {},
   "outputs": [],
   "source": [
    "import numpy as np\n",
    "import pandas as pd\n",
    "import seaborn as sns\n",
    "import matplotlib.pyplot as plt\n",
    "\n",
    "\n",
    "from matplotlib import pyplot\n",
    "\n",
    "from sklearn import metrics\n",
    "from sklearn.preprocessing import StandardScaler\n",
    "from sklearn.preprocessing import LabelEncoder\n",
    "\n",
    "import warnings                                                                 \n",
    "warnings.filterwarnings('ignore') \n",
    "\n",
    "# allow plots to appear directly in the notebook\n",
    "%matplotlib inline\n",
    "\n",
    "from subprocess import check_output\n",
    "from sklearn.metrics import accuracy_score\n",
    "from sklearn.metrics import confusion_matrix\n",
    "from sklearn.model_selection import train_test_split\n",
    "\n",
    "from sklearn.linear_model import LogisticRegression\n",
    "from sklearn.linear_model import LinearRegression\n",
    "\n",
    "from sklearn.ensemble import RandomForestClassifier\n",
    "from sklearn.ensemble import RandomForestRegressor"
   ]
  },
  {
   "cell_type": "code",
   "execution_count": 8,
   "id": "f69ae57b",
   "metadata": {},
   "outputs": [
    {
     "data": {
      "text/html": [
       "<div>\n",
       "<style scoped>\n",
       "    .dataframe tbody tr th:only-of-type {\n",
       "        vertical-align: middle;\n",
       "    }\n",
       "\n",
       "    .dataframe tbody tr th {\n",
       "        vertical-align: top;\n",
       "    }\n",
       "\n",
       "    .dataframe thead th {\n",
       "        text-align: right;\n",
       "    }\n",
       "</style>\n",
       "<table border=\"1\" class=\"dataframe\">\n",
       "  <thead>\n",
       "    <tr style=\"text-align: right;\">\n",
       "      <th></th>\n",
       "      <th>Date</th>\n",
       "      <th>AveragePrice</th>\n",
       "      <th>Total Volume</th>\n",
       "      <th>4046</th>\n",
       "      <th>4225</th>\n",
       "      <th>4770</th>\n",
       "      <th>Total Bags</th>\n",
       "      <th>Small Bags</th>\n",
       "      <th>Large Bags</th>\n",
       "      <th>XLarge Bags</th>\n",
       "      <th>type</th>\n",
       "      <th>year</th>\n",
       "      <th>region</th>\n",
       "    </tr>\n",
       "  </thead>\n",
       "  <tbody>\n",
       "    <tr>\n",
       "      <th>0</th>\n",
       "      <td>2015-12-27</td>\n",
       "      <td>1.33</td>\n",
       "      <td>64236.62</td>\n",
       "      <td>1036.74</td>\n",
       "      <td>54454.85</td>\n",
       "      <td>48.16</td>\n",
       "      <td>8696.87</td>\n",
       "      <td>8603.62</td>\n",
       "      <td>93.25</td>\n",
       "      <td>0.0</td>\n",
       "      <td>conventional</td>\n",
       "      <td>2015</td>\n",
       "      <td>Albany</td>\n",
       "    </tr>\n",
       "    <tr>\n",
       "      <th>1</th>\n",
       "      <td>2015-12-20</td>\n",
       "      <td>1.35</td>\n",
       "      <td>54876.98</td>\n",
       "      <td>674.28</td>\n",
       "      <td>44638.81</td>\n",
       "      <td>58.33</td>\n",
       "      <td>9505.56</td>\n",
       "      <td>9408.07</td>\n",
       "      <td>97.49</td>\n",
       "      <td>0.0</td>\n",
       "      <td>conventional</td>\n",
       "      <td>2015</td>\n",
       "      <td>Albany</td>\n",
       "    </tr>\n",
       "    <tr>\n",
       "      <th>2</th>\n",
       "      <td>2015-12-13</td>\n",
       "      <td>0.93</td>\n",
       "      <td>118220.22</td>\n",
       "      <td>794.70</td>\n",
       "      <td>109149.67</td>\n",
       "      <td>130.50</td>\n",
       "      <td>8145.35</td>\n",
       "      <td>8042.21</td>\n",
       "      <td>103.14</td>\n",
       "      <td>0.0</td>\n",
       "      <td>conventional</td>\n",
       "      <td>2015</td>\n",
       "      <td>Albany</td>\n",
       "    </tr>\n",
       "    <tr>\n",
       "      <th>3</th>\n",
       "      <td>2015-12-06</td>\n",
       "      <td>1.08</td>\n",
       "      <td>78992.15</td>\n",
       "      <td>1132.00</td>\n",
       "      <td>71976.41</td>\n",
       "      <td>72.58</td>\n",
       "      <td>5811.16</td>\n",
       "      <td>5677.40</td>\n",
       "      <td>133.76</td>\n",
       "      <td>0.0</td>\n",
       "      <td>conventional</td>\n",
       "      <td>2015</td>\n",
       "      <td>Albany</td>\n",
       "    </tr>\n",
       "    <tr>\n",
       "      <th>4</th>\n",
       "      <td>2015-11-29</td>\n",
       "      <td>1.28</td>\n",
       "      <td>51039.60</td>\n",
       "      <td>941.48</td>\n",
       "      <td>43838.39</td>\n",
       "      <td>75.78</td>\n",
       "      <td>6183.95</td>\n",
       "      <td>5986.26</td>\n",
       "      <td>197.69</td>\n",
       "      <td>0.0</td>\n",
       "      <td>conventional</td>\n",
       "      <td>2015</td>\n",
       "      <td>Albany</td>\n",
       "    </tr>\n",
       "    <tr>\n",
       "      <th>...</th>\n",
       "      <td>...</td>\n",
       "      <td>...</td>\n",
       "      <td>...</td>\n",
       "      <td>...</td>\n",
       "      <td>...</td>\n",
       "      <td>...</td>\n",
       "      <td>...</td>\n",
       "      <td>...</td>\n",
       "      <td>...</td>\n",
       "      <td>...</td>\n",
       "      <td>...</td>\n",
       "      <td>...</td>\n",
       "      <td>...</td>\n",
       "    </tr>\n",
       "    <tr>\n",
       "      <th>18244</th>\n",
       "      <td>2018-02-04</td>\n",
       "      <td>1.63</td>\n",
       "      <td>17074.83</td>\n",
       "      <td>2046.96</td>\n",
       "      <td>1529.20</td>\n",
       "      <td>0.00</td>\n",
       "      <td>13498.67</td>\n",
       "      <td>13066.82</td>\n",
       "      <td>431.85</td>\n",
       "      <td>0.0</td>\n",
       "      <td>organic</td>\n",
       "      <td>2018</td>\n",
       "      <td>WestTexNewMexico</td>\n",
       "    </tr>\n",
       "    <tr>\n",
       "      <th>18245</th>\n",
       "      <td>2018-01-28</td>\n",
       "      <td>1.71</td>\n",
       "      <td>13888.04</td>\n",
       "      <td>1191.70</td>\n",
       "      <td>3431.50</td>\n",
       "      <td>0.00</td>\n",
       "      <td>9264.84</td>\n",
       "      <td>8940.04</td>\n",
       "      <td>324.80</td>\n",
       "      <td>0.0</td>\n",
       "      <td>organic</td>\n",
       "      <td>2018</td>\n",
       "      <td>WestTexNewMexico</td>\n",
       "    </tr>\n",
       "    <tr>\n",
       "      <th>18246</th>\n",
       "      <td>2018-01-21</td>\n",
       "      <td>1.87</td>\n",
       "      <td>13766.76</td>\n",
       "      <td>1191.92</td>\n",
       "      <td>2452.79</td>\n",
       "      <td>727.94</td>\n",
       "      <td>9394.11</td>\n",
       "      <td>9351.80</td>\n",
       "      <td>42.31</td>\n",
       "      <td>0.0</td>\n",
       "      <td>organic</td>\n",
       "      <td>2018</td>\n",
       "      <td>WestTexNewMexico</td>\n",
       "    </tr>\n",
       "    <tr>\n",
       "      <th>18247</th>\n",
       "      <td>2018-01-14</td>\n",
       "      <td>1.93</td>\n",
       "      <td>16205.22</td>\n",
       "      <td>1527.63</td>\n",
       "      <td>2981.04</td>\n",
       "      <td>727.01</td>\n",
       "      <td>10969.54</td>\n",
       "      <td>10919.54</td>\n",
       "      <td>50.00</td>\n",
       "      <td>0.0</td>\n",
       "      <td>organic</td>\n",
       "      <td>2018</td>\n",
       "      <td>WestTexNewMexico</td>\n",
       "    </tr>\n",
       "    <tr>\n",
       "      <th>18248</th>\n",
       "      <td>2018-01-07</td>\n",
       "      <td>1.62</td>\n",
       "      <td>17489.58</td>\n",
       "      <td>2894.77</td>\n",
       "      <td>2356.13</td>\n",
       "      <td>224.53</td>\n",
       "      <td>12014.15</td>\n",
       "      <td>11988.14</td>\n",
       "      <td>26.01</td>\n",
       "      <td>0.0</td>\n",
       "      <td>organic</td>\n",
       "      <td>2018</td>\n",
       "      <td>WestTexNewMexico</td>\n",
       "    </tr>\n",
       "  </tbody>\n",
       "</table>\n",
       "<p>18249 rows × 13 columns</p>\n",
       "</div>"
      ],
      "text/plain": [
       "             Date  AveragePrice  Total Volume     4046       4225    4770  \\\n",
       "0      2015-12-27          1.33      64236.62  1036.74   54454.85   48.16   \n",
       "1      2015-12-20          1.35      54876.98   674.28   44638.81   58.33   \n",
       "2      2015-12-13          0.93     118220.22   794.70  109149.67  130.50   \n",
       "3      2015-12-06          1.08      78992.15  1132.00   71976.41   72.58   \n",
       "4      2015-11-29          1.28      51039.60   941.48   43838.39   75.78   \n",
       "...           ...           ...           ...      ...        ...     ...   \n",
       "18244  2018-02-04          1.63      17074.83  2046.96    1529.20    0.00   \n",
       "18245  2018-01-28          1.71      13888.04  1191.70    3431.50    0.00   \n",
       "18246  2018-01-21          1.87      13766.76  1191.92    2452.79  727.94   \n",
       "18247  2018-01-14          1.93      16205.22  1527.63    2981.04  727.01   \n",
       "18248  2018-01-07          1.62      17489.58  2894.77    2356.13  224.53   \n",
       "\n",
       "       Total Bags  Small Bags  Large Bags  XLarge Bags          type  year  \\\n",
       "0         8696.87     8603.62       93.25          0.0  conventional  2015   \n",
       "1         9505.56     9408.07       97.49          0.0  conventional  2015   \n",
       "2         8145.35     8042.21      103.14          0.0  conventional  2015   \n",
       "3         5811.16     5677.40      133.76          0.0  conventional  2015   \n",
       "4         6183.95     5986.26      197.69          0.0  conventional  2015   \n",
       "...           ...         ...         ...          ...           ...   ...   \n",
       "18244    13498.67    13066.82      431.85          0.0       organic  2018   \n",
       "18245     9264.84     8940.04      324.80          0.0       organic  2018   \n",
       "18246     9394.11     9351.80       42.31          0.0       organic  2018   \n",
       "18247    10969.54    10919.54       50.00          0.0       organic  2018   \n",
       "18248    12014.15    11988.14       26.01          0.0       organic  2018   \n",
       "\n",
       "                 region  \n",
       "0                Albany  \n",
       "1                Albany  \n",
       "2                Albany  \n",
       "3                Albany  \n",
       "4                Albany  \n",
       "...                 ...  \n",
       "18244  WestTexNewMexico  \n",
       "18245  WestTexNewMexico  \n",
       "18246  WestTexNewMexico  \n",
       "18247  WestTexNewMexico  \n",
       "18248  WestTexNewMexico  \n",
       "\n",
       "[18249 rows x 13 columns]"
      ]
     },
     "execution_count": 8,
     "metadata": {},
     "output_type": "execute_result"
    }
   ],
   "source": [
    "data = pd.read_csv(\"avocado.csv\")\n",
    "data.drop(\"Unnamed: 0\", axis=1,inplace=True)\n",
    "data"
   ]
  },
  {
   "cell_type": "markdown",
   "id": "dc166dc6",
   "metadata": {},
   "source": [
    "# We can see there is no null values. We have 18249 records.\n",
    "No need to add values on the provided data.\n",
    "\n"
   ]
  },
  {
   "cell_type": "code",
   "execution_count": 9,
   "id": "e3ddf1f6",
   "metadata": {},
   "outputs": [
    {
     "name": "stdout",
     "output_type": "stream",
     "text": [
      "<class 'pandas.core.frame.DataFrame'>\n",
      "RangeIndex: 18249 entries, 0 to 18248\n",
      "Data columns (total 13 columns):\n",
      " #   Column        Non-Null Count  Dtype  \n",
      "---  ------        --------------  -----  \n",
      " 0   Date          18249 non-null  object \n",
      " 1   AveragePrice  18249 non-null  float64\n",
      " 2   Total Volume  18249 non-null  float64\n",
      " 3   4046          18249 non-null  float64\n",
      " 4   4225          18249 non-null  float64\n",
      " 5   4770          18249 non-null  float64\n",
      " 6   Total Bags    18249 non-null  float64\n",
      " 7   Small Bags    18249 non-null  float64\n",
      " 8   Large Bags    18249 non-null  float64\n",
      " 9   XLarge Bags   18249 non-null  float64\n",
      " 10  type          18249 non-null  object \n",
      " 11  year          18249 non-null  int64  \n",
      " 12  region        18249 non-null  object \n",
      "dtypes: float64(9), int64(1), object(3)\n",
      "memory usage: 1.8+ MB\n"
     ]
    }
   ],
   "source": [
    "data.info()"
   ]
  },
  {
   "cell_type": "code",
   "execution_count": 10,
   "id": "6bf85163",
   "metadata": {},
   "outputs": [
    {
     "data": {
      "text/html": [
       "<div>\n",
       "<style scoped>\n",
       "    .dataframe tbody tr th:only-of-type {\n",
       "        vertical-align: middle;\n",
       "    }\n",
       "\n",
       "    .dataframe tbody tr th {\n",
       "        vertical-align: top;\n",
       "    }\n",
       "\n",
       "    .dataframe thead th {\n",
       "        text-align: right;\n",
       "    }\n",
       "</style>\n",
       "<table border=\"1\" class=\"dataframe\">\n",
       "  <thead>\n",
       "    <tr style=\"text-align: right;\">\n",
       "      <th></th>\n",
       "      <th>Date</th>\n",
       "      <th>AveragePrice</th>\n",
       "      <th>Total Volume</th>\n",
       "      <th>4046</th>\n",
       "      <th>4225</th>\n",
       "      <th>4770</th>\n",
       "      <th>Total Bags</th>\n",
       "      <th>Small Bags</th>\n",
       "      <th>Large Bags</th>\n",
       "      <th>XLarge Bags</th>\n",
       "      <th>type</th>\n",
       "      <th>year</th>\n",
       "      <th>region</th>\n",
       "    </tr>\n",
       "  </thead>\n",
       "  <tbody>\n",
       "    <tr>\n",
       "      <th>0</th>\n",
       "      <td>2015-12-27</td>\n",
       "      <td>1.33</td>\n",
       "      <td>64236.62</td>\n",
       "      <td>1036.74</td>\n",
       "      <td>54454.85</td>\n",
       "      <td>48.16</td>\n",
       "      <td>8696.87</td>\n",
       "      <td>8603.62</td>\n",
       "      <td>93.25</td>\n",
       "      <td>0.0</td>\n",
       "      <td>conventional</td>\n",
       "      <td>2015</td>\n",
       "      <td>Albany</td>\n",
       "    </tr>\n",
       "    <tr>\n",
       "      <th>1</th>\n",
       "      <td>2015-12-20</td>\n",
       "      <td>1.35</td>\n",
       "      <td>54876.98</td>\n",
       "      <td>674.28</td>\n",
       "      <td>44638.81</td>\n",
       "      <td>58.33</td>\n",
       "      <td>9505.56</td>\n",
       "      <td>9408.07</td>\n",
       "      <td>97.49</td>\n",
       "      <td>0.0</td>\n",
       "      <td>conventional</td>\n",
       "      <td>2015</td>\n",
       "      <td>Albany</td>\n",
       "    </tr>\n",
       "    <tr>\n",
       "      <th>2</th>\n",
       "      <td>2015-12-13</td>\n",
       "      <td>0.93</td>\n",
       "      <td>118220.22</td>\n",
       "      <td>794.70</td>\n",
       "      <td>109149.67</td>\n",
       "      <td>130.50</td>\n",
       "      <td>8145.35</td>\n",
       "      <td>8042.21</td>\n",
       "      <td>103.14</td>\n",
       "      <td>0.0</td>\n",
       "      <td>conventional</td>\n",
       "      <td>2015</td>\n",
       "      <td>Albany</td>\n",
       "    </tr>\n",
       "    <tr>\n",
       "      <th>3</th>\n",
       "      <td>2015-12-06</td>\n",
       "      <td>1.08</td>\n",
       "      <td>78992.15</td>\n",
       "      <td>1132.00</td>\n",
       "      <td>71976.41</td>\n",
       "      <td>72.58</td>\n",
       "      <td>5811.16</td>\n",
       "      <td>5677.40</td>\n",
       "      <td>133.76</td>\n",
       "      <td>0.0</td>\n",
       "      <td>conventional</td>\n",
       "      <td>2015</td>\n",
       "      <td>Albany</td>\n",
       "    </tr>\n",
       "    <tr>\n",
       "      <th>4</th>\n",
       "      <td>2015-11-29</td>\n",
       "      <td>1.28</td>\n",
       "      <td>51039.60</td>\n",
       "      <td>941.48</td>\n",
       "      <td>43838.39</td>\n",
       "      <td>75.78</td>\n",
       "      <td>6183.95</td>\n",
       "      <td>5986.26</td>\n",
       "      <td>197.69</td>\n",
       "      <td>0.0</td>\n",
       "      <td>conventional</td>\n",
       "      <td>2015</td>\n",
       "      <td>Albany</td>\n",
       "    </tr>\n",
       "  </tbody>\n",
       "</table>\n",
       "</div>"
      ],
      "text/plain": [
       "         Date  AveragePrice  Total Volume     4046       4225    4770  \\\n",
       "0  2015-12-27          1.33      64236.62  1036.74   54454.85   48.16   \n",
       "1  2015-12-20          1.35      54876.98   674.28   44638.81   58.33   \n",
       "2  2015-12-13          0.93     118220.22   794.70  109149.67  130.50   \n",
       "3  2015-12-06          1.08      78992.15  1132.00   71976.41   72.58   \n",
       "4  2015-11-29          1.28      51039.60   941.48   43838.39   75.78   \n",
       "\n",
       "   Total Bags  Small Bags  Large Bags  XLarge Bags          type  year  region  \n",
       "0     8696.87     8603.62       93.25          0.0  conventional  2015  Albany  \n",
       "1     9505.56     9408.07       97.49          0.0  conventional  2015  Albany  \n",
       "2     8145.35     8042.21      103.14          0.0  conventional  2015  Albany  \n",
       "3     5811.16     5677.40      133.76          0.0  conventional  2015  Albany  \n",
       "4     6183.95     5986.26      197.69          0.0  conventional  2015  Albany  "
      ]
     },
     "execution_count": 10,
     "metadata": {},
     "output_type": "execute_result"
    }
   ],
   "source": [
    "data.head()"
   ]
  },
  {
   "cell_type": "code",
   "execution_count": 11,
   "id": "7b0d5ad5",
   "metadata": {},
   "outputs": [
    {
     "data": {
      "text/html": [
       "<div>\n",
       "<style scoped>\n",
       "    .dataframe tbody tr th:only-of-type {\n",
       "        vertical-align: middle;\n",
       "    }\n",
       "\n",
       "    .dataframe tbody tr th {\n",
       "        vertical-align: top;\n",
       "    }\n",
       "\n",
       "    .dataframe thead th {\n",
       "        text-align: right;\n",
       "    }\n",
       "</style>\n",
       "<table border=\"1\" class=\"dataframe\">\n",
       "  <thead>\n",
       "    <tr style=\"text-align: right;\">\n",
       "      <th></th>\n",
       "      <th>Date</th>\n",
       "      <th>AveragePrice</th>\n",
       "      <th>Total Volume</th>\n",
       "      <th>4046</th>\n",
       "      <th>4225</th>\n",
       "      <th>4770</th>\n",
       "      <th>Total Bags</th>\n",
       "      <th>Small Bags</th>\n",
       "      <th>Large Bags</th>\n",
       "      <th>XLarge Bags</th>\n",
       "      <th>type</th>\n",
       "      <th>year</th>\n",
       "      <th>region</th>\n",
       "    </tr>\n",
       "  </thead>\n",
       "  <tbody>\n",
       "    <tr>\n",
       "      <th>18244</th>\n",
       "      <td>2018-02-04</td>\n",
       "      <td>1.63</td>\n",
       "      <td>17074.83</td>\n",
       "      <td>2046.96</td>\n",
       "      <td>1529.20</td>\n",
       "      <td>0.00</td>\n",
       "      <td>13498.67</td>\n",
       "      <td>13066.82</td>\n",
       "      <td>431.85</td>\n",
       "      <td>0.0</td>\n",
       "      <td>organic</td>\n",
       "      <td>2018</td>\n",
       "      <td>WestTexNewMexico</td>\n",
       "    </tr>\n",
       "    <tr>\n",
       "      <th>18245</th>\n",
       "      <td>2018-01-28</td>\n",
       "      <td>1.71</td>\n",
       "      <td>13888.04</td>\n",
       "      <td>1191.70</td>\n",
       "      <td>3431.50</td>\n",
       "      <td>0.00</td>\n",
       "      <td>9264.84</td>\n",
       "      <td>8940.04</td>\n",
       "      <td>324.80</td>\n",
       "      <td>0.0</td>\n",
       "      <td>organic</td>\n",
       "      <td>2018</td>\n",
       "      <td>WestTexNewMexico</td>\n",
       "    </tr>\n",
       "    <tr>\n",
       "      <th>18246</th>\n",
       "      <td>2018-01-21</td>\n",
       "      <td>1.87</td>\n",
       "      <td>13766.76</td>\n",
       "      <td>1191.92</td>\n",
       "      <td>2452.79</td>\n",
       "      <td>727.94</td>\n",
       "      <td>9394.11</td>\n",
       "      <td>9351.80</td>\n",
       "      <td>42.31</td>\n",
       "      <td>0.0</td>\n",
       "      <td>organic</td>\n",
       "      <td>2018</td>\n",
       "      <td>WestTexNewMexico</td>\n",
       "    </tr>\n",
       "    <tr>\n",
       "      <th>18247</th>\n",
       "      <td>2018-01-14</td>\n",
       "      <td>1.93</td>\n",
       "      <td>16205.22</td>\n",
       "      <td>1527.63</td>\n",
       "      <td>2981.04</td>\n",
       "      <td>727.01</td>\n",
       "      <td>10969.54</td>\n",
       "      <td>10919.54</td>\n",
       "      <td>50.00</td>\n",
       "      <td>0.0</td>\n",
       "      <td>organic</td>\n",
       "      <td>2018</td>\n",
       "      <td>WestTexNewMexico</td>\n",
       "    </tr>\n",
       "    <tr>\n",
       "      <th>18248</th>\n",
       "      <td>2018-01-07</td>\n",
       "      <td>1.62</td>\n",
       "      <td>17489.58</td>\n",
       "      <td>2894.77</td>\n",
       "      <td>2356.13</td>\n",
       "      <td>224.53</td>\n",
       "      <td>12014.15</td>\n",
       "      <td>11988.14</td>\n",
       "      <td>26.01</td>\n",
       "      <td>0.0</td>\n",
       "      <td>organic</td>\n",
       "      <td>2018</td>\n",
       "      <td>WestTexNewMexico</td>\n",
       "    </tr>\n",
       "  </tbody>\n",
       "</table>\n",
       "</div>"
      ],
      "text/plain": [
       "             Date  AveragePrice  Total Volume     4046     4225    4770  \\\n",
       "18244  2018-02-04          1.63      17074.83  2046.96  1529.20    0.00   \n",
       "18245  2018-01-28          1.71      13888.04  1191.70  3431.50    0.00   \n",
       "18246  2018-01-21          1.87      13766.76  1191.92  2452.79  727.94   \n",
       "18247  2018-01-14          1.93      16205.22  1527.63  2981.04  727.01   \n",
       "18248  2018-01-07          1.62      17489.58  2894.77  2356.13  224.53   \n",
       "\n",
       "       Total Bags  Small Bags  Large Bags  XLarge Bags     type  year  \\\n",
       "18244    13498.67    13066.82      431.85          0.0  organic  2018   \n",
       "18245     9264.84     8940.04      324.80          0.0  organic  2018   \n",
       "18246     9394.11     9351.80       42.31          0.0  organic  2018   \n",
       "18247    10969.54    10919.54       50.00          0.0  organic  2018   \n",
       "18248    12014.15    11988.14       26.01          0.0  organic  2018   \n",
       "\n",
       "                 region  \n",
       "18244  WestTexNewMexico  \n",
       "18245  WestTexNewMexico  \n",
       "18246  WestTexNewMexico  \n",
       "18247  WestTexNewMexico  \n",
       "18248  WestTexNewMexico  "
      ]
     },
     "execution_count": 11,
     "metadata": {},
     "output_type": "execute_result"
    }
   ],
   "source": [
    "data.tail()"
   ]
  },
  {
   "cell_type": "code",
   "execution_count": 12,
   "id": "304f39f6",
   "metadata": {},
   "outputs": [
    {
     "data": {
      "text/html": [
       "<div>\n",
       "<style scoped>\n",
       "    .dataframe tbody tr th:only-of-type {\n",
       "        vertical-align: middle;\n",
       "    }\n",
       "\n",
       "    .dataframe tbody tr th {\n",
       "        vertical-align: top;\n",
       "    }\n",
       "\n",
       "    .dataframe thead th {\n",
       "        text-align: right;\n",
       "    }\n",
       "</style>\n",
       "<table border=\"1\" class=\"dataframe\">\n",
       "  <thead>\n",
       "    <tr style=\"text-align: right;\">\n",
       "      <th></th>\n",
       "      <th>AveragePrice</th>\n",
       "      <th>Total Volume</th>\n",
       "      <th>4046</th>\n",
       "      <th>4225</th>\n",
       "      <th>4770</th>\n",
       "      <th>Total Bags</th>\n",
       "      <th>Small Bags</th>\n",
       "      <th>Large Bags</th>\n",
       "      <th>XLarge Bags</th>\n",
       "      <th>year</th>\n",
       "    </tr>\n",
       "  </thead>\n",
       "  <tbody>\n",
       "    <tr>\n",
       "      <th>count</th>\n",
       "      <td>18249.000000</td>\n",
       "      <td>1.824900e+04</td>\n",
       "      <td>1.824900e+04</td>\n",
       "      <td>1.824900e+04</td>\n",
       "      <td>1.824900e+04</td>\n",
       "      <td>1.824900e+04</td>\n",
       "      <td>1.824900e+04</td>\n",
       "      <td>1.824900e+04</td>\n",
       "      <td>18249.000000</td>\n",
       "      <td>18249.000000</td>\n",
       "    </tr>\n",
       "    <tr>\n",
       "      <th>mean</th>\n",
       "      <td>1.405978</td>\n",
       "      <td>8.506440e+05</td>\n",
       "      <td>2.930084e+05</td>\n",
       "      <td>2.951546e+05</td>\n",
       "      <td>2.283974e+04</td>\n",
       "      <td>2.396392e+05</td>\n",
       "      <td>1.821947e+05</td>\n",
       "      <td>5.433809e+04</td>\n",
       "      <td>3106.426507</td>\n",
       "      <td>2016.147899</td>\n",
       "    </tr>\n",
       "    <tr>\n",
       "      <th>std</th>\n",
       "      <td>0.402677</td>\n",
       "      <td>3.453545e+06</td>\n",
       "      <td>1.264989e+06</td>\n",
       "      <td>1.204120e+06</td>\n",
       "      <td>1.074641e+05</td>\n",
       "      <td>9.862424e+05</td>\n",
       "      <td>7.461785e+05</td>\n",
       "      <td>2.439660e+05</td>\n",
       "      <td>17692.894652</td>\n",
       "      <td>0.939938</td>\n",
       "    </tr>\n",
       "    <tr>\n",
       "      <th>min</th>\n",
       "      <td>0.440000</td>\n",
       "      <td>8.456000e+01</td>\n",
       "      <td>0.000000e+00</td>\n",
       "      <td>0.000000e+00</td>\n",
       "      <td>0.000000e+00</td>\n",
       "      <td>0.000000e+00</td>\n",
       "      <td>0.000000e+00</td>\n",
       "      <td>0.000000e+00</td>\n",
       "      <td>0.000000</td>\n",
       "      <td>2015.000000</td>\n",
       "    </tr>\n",
       "    <tr>\n",
       "      <th>25%</th>\n",
       "      <td>1.100000</td>\n",
       "      <td>1.083858e+04</td>\n",
       "      <td>8.540700e+02</td>\n",
       "      <td>3.008780e+03</td>\n",
       "      <td>0.000000e+00</td>\n",
       "      <td>5.088640e+03</td>\n",
       "      <td>2.849420e+03</td>\n",
       "      <td>1.274700e+02</td>\n",
       "      <td>0.000000</td>\n",
       "      <td>2015.000000</td>\n",
       "    </tr>\n",
       "    <tr>\n",
       "      <th>50%</th>\n",
       "      <td>1.370000</td>\n",
       "      <td>1.073768e+05</td>\n",
       "      <td>8.645300e+03</td>\n",
       "      <td>2.906102e+04</td>\n",
       "      <td>1.849900e+02</td>\n",
       "      <td>3.974383e+04</td>\n",
       "      <td>2.636282e+04</td>\n",
       "      <td>2.647710e+03</td>\n",
       "      <td>0.000000</td>\n",
       "      <td>2016.000000</td>\n",
       "    </tr>\n",
       "    <tr>\n",
       "      <th>75%</th>\n",
       "      <td>1.660000</td>\n",
       "      <td>4.329623e+05</td>\n",
       "      <td>1.110202e+05</td>\n",
       "      <td>1.502069e+05</td>\n",
       "      <td>6.243420e+03</td>\n",
       "      <td>1.107834e+05</td>\n",
       "      <td>8.333767e+04</td>\n",
       "      <td>2.202925e+04</td>\n",
       "      <td>132.500000</td>\n",
       "      <td>2017.000000</td>\n",
       "    </tr>\n",
       "    <tr>\n",
       "      <th>max</th>\n",
       "      <td>3.250000</td>\n",
       "      <td>6.250565e+07</td>\n",
       "      <td>2.274362e+07</td>\n",
       "      <td>2.047057e+07</td>\n",
       "      <td>2.546439e+06</td>\n",
       "      <td>1.937313e+07</td>\n",
       "      <td>1.338459e+07</td>\n",
       "      <td>5.719097e+06</td>\n",
       "      <td>551693.650000</td>\n",
       "      <td>2018.000000</td>\n",
       "    </tr>\n",
       "  </tbody>\n",
       "</table>\n",
       "</div>"
      ],
      "text/plain": [
       "       AveragePrice  Total Volume          4046          4225          4770  \\\n",
       "count  18249.000000  1.824900e+04  1.824900e+04  1.824900e+04  1.824900e+04   \n",
       "mean       1.405978  8.506440e+05  2.930084e+05  2.951546e+05  2.283974e+04   \n",
       "std        0.402677  3.453545e+06  1.264989e+06  1.204120e+06  1.074641e+05   \n",
       "min        0.440000  8.456000e+01  0.000000e+00  0.000000e+00  0.000000e+00   \n",
       "25%        1.100000  1.083858e+04  8.540700e+02  3.008780e+03  0.000000e+00   \n",
       "50%        1.370000  1.073768e+05  8.645300e+03  2.906102e+04  1.849900e+02   \n",
       "75%        1.660000  4.329623e+05  1.110202e+05  1.502069e+05  6.243420e+03   \n",
       "max        3.250000  6.250565e+07  2.274362e+07  2.047057e+07  2.546439e+06   \n",
       "\n",
       "         Total Bags    Small Bags    Large Bags    XLarge Bags          year  \n",
       "count  1.824900e+04  1.824900e+04  1.824900e+04   18249.000000  18249.000000  \n",
       "mean   2.396392e+05  1.821947e+05  5.433809e+04    3106.426507   2016.147899  \n",
       "std    9.862424e+05  7.461785e+05  2.439660e+05   17692.894652      0.939938  \n",
       "min    0.000000e+00  0.000000e+00  0.000000e+00       0.000000   2015.000000  \n",
       "25%    5.088640e+03  2.849420e+03  1.274700e+02       0.000000   2015.000000  \n",
       "50%    3.974383e+04  2.636282e+04  2.647710e+03       0.000000   2016.000000  \n",
       "75%    1.107834e+05  8.333767e+04  2.202925e+04     132.500000   2017.000000  \n",
       "max    1.937313e+07  1.338459e+07  5.719097e+06  551693.650000   2018.000000  "
      ]
     },
     "execution_count": 12,
     "metadata": {},
     "output_type": "execute_result"
    }
   ],
   "source": [
    "data.describe()"
   ]
  },
  {
   "cell_type": "markdown",
   "id": "bd29b9bc",
   "metadata": {},
   "source": [
    "# Data Visualization:\n",
    "In this portion we can plot different graph using different columns and try to visualize the data using matplotlib and seaborn library.\n",
    "We use different graph include:\n",
    "Bar plot\n",
    "Count plot\n",
    "Line plot\n",
    "Histogram and Pair plot"
   ]
  },
  {
   "cell_type": "code",
   "execution_count": 13,
   "id": "102d8d61",
   "metadata": {},
   "outputs": [
    {
     "ename": "ValueError",
     "evalue": "Could not interpret input 'Month'",
     "output_type": "error",
     "traceback": [
      "\u001b[1;31m---------------------------------------------------------------------------\u001b[0m",
      "\u001b[1;31mValueError\u001b[0m                                Traceback (most recent call last)",
      "\u001b[1;32m<ipython-input-13-81c8e8879950>\u001b[0m in \u001b[0;36m<module>\u001b[1;34m\u001b[0m\n\u001b[0;32m      1\u001b[0m \u001b[1;31m#Checking ratio of the month and price that which year had max avrg price\u001b[0m\u001b[1;33m\u001b[0m\u001b[1;33m\u001b[0m\u001b[1;33m\u001b[0m\u001b[0m\n\u001b[1;32m----> 2\u001b[1;33m \u001b[0msns\u001b[0m\u001b[1;33m.\u001b[0m\u001b[0mbarplot\u001b[0m\u001b[1;33m(\u001b[0m\u001b[0mx\u001b[0m\u001b[1;33m=\u001b[0m\u001b[1;34m\"Month\"\u001b[0m\u001b[1;33m,\u001b[0m \u001b[0my\u001b[0m\u001b[1;33m=\u001b[0m \u001b[1;34m\"AveragePrice\"\u001b[0m\u001b[1;33m,\u001b[0m \u001b[0mdata\u001b[0m\u001b[1;33m=\u001b[0m\u001b[0mdata\u001b[0m\u001b[1;33m)\u001b[0m\u001b[1;33m\u001b[0m\u001b[1;33m\u001b[0m\u001b[0m\n\u001b[0m",
      "\u001b[1;32mF:\\Users\\Dell\\anaconda3\\lib\\site-packages\\seaborn\\_decorators.py\u001b[0m in \u001b[0;36minner_f\u001b[1;34m(*args, **kwargs)\u001b[0m\n\u001b[0;32m     44\u001b[0m             )\n\u001b[0;32m     45\u001b[0m         \u001b[0mkwargs\u001b[0m\u001b[1;33m.\u001b[0m\u001b[0mupdate\u001b[0m\u001b[1;33m(\u001b[0m\u001b[1;33m{\u001b[0m\u001b[0mk\u001b[0m\u001b[1;33m:\u001b[0m \u001b[0marg\u001b[0m \u001b[1;32mfor\u001b[0m \u001b[0mk\u001b[0m\u001b[1;33m,\u001b[0m \u001b[0marg\u001b[0m \u001b[1;32min\u001b[0m \u001b[0mzip\u001b[0m\u001b[1;33m(\u001b[0m\u001b[0msig\u001b[0m\u001b[1;33m.\u001b[0m\u001b[0mparameters\u001b[0m\u001b[1;33m,\u001b[0m \u001b[0margs\u001b[0m\u001b[1;33m)\u001b[0m\u001b[1;33m}\u001b[0m\u001b[1;33m)\u001b[0m\u001b[1;33m\u001b[0m\u001b[1;33m\u001b[0m\u001b[0m\n\u001b[1;32m---> 46\u001b[1;33m         \u001b[1;32mreturn\u001b[0m \u001b[0mf\u001b[0m\u001b[1;33m(\u001b[0m\u001b[1;33m**\u001b[0m\u001b[0mkwargs\u001b[0m\u001b[1;33m)\u001b[0m\u001b[1;33m\u001b[0m\u001b[1;33m\u001b[0m\u001b[0m\n\u001b[0m\u001b[0;32m     47\u001b[0m     \u001b[1;32mreturn\u001b[0m \u001b[0minner_f\u001b[0m\u001b[1;33m\u001b[0m\u001b[1;33m\u001b[0m\u001b[0m\n\u001b[0;32m     48\u001b[0m \u001b[1;33m\u001b[0m\u001b[0m\n",
      "\u001b[1;32mF:\\Users\\Dell\\anaconda3\\lib\\site-packages\\seaborn\\categorical.py\u001b[0m in \u001b[0;36mbarplot\u001b[1;34m(x, y, hue, data, order, hue_order, estimator, ci, n_boot, units, seed, orient, color, palette, saturation, errcolor, errwidth, capsize, dodge, ax, **kwargs)\u001b[0m\n\u001b[0;32m   3177\u001b[0m ):\n\u001b[0;32m   3178\u001b[0m \u001b[1;33m\u001b[0m\u001b[0m\n\u001b[1;32m-> 3179\u001b[1;33m     plotter = _BarPlotter(x, y, hue, data, order, hue_order,\n\u001b[0m\u001b[0;32m   3180\u001b[0m                           \u001b[0mestimator\u001b[0m\u001b[1;33m,\u001b[0m \u001b[0mci\u001b[0m\u001b[1;33m,\u001b[0m \u001b[0mn_boot\u001b[0m\u001b[1;33m,\u001b[0m \u001b[0munits\u001b[0m\u001b[1;33m,\u001b[0m \u001b[0mseed\u001b[0m\u001b[1;33m,\u001b[0m\u001b[1;33m\u001b[0m\u001b[1;33m\u001b[0m\u001b[0m\n\u001b[0;32m   3181\u001b[0m                           \u001b[0morient\u001b[0m\u001b[1;33m,\u001b[0m \u001b[0mcolor\u001b[0m\u001b[1;33m,\u001b[0m \u001b[0mpalette\u001b[0m\u001b[1;33m,\u001b[0m \u001b[0msaturation\u001b[0m\u001b[1;33m,\u001b[0m\u001b[1;33m\u001b[0m\u001b[1;33m\u001b[0m\u001b[0m\n",
      "\u001b[1;32mF:\\Users\\Dell\\anaconda3\\lib\\site-packages\\seaborn\\categorical.py\u001b[0m in \u001b[0;36m__init__\u001b[1;34m(self, x, y, hue, data, order, hue_order, estimator, ci, n_boot, units, seed, orient, color, palette, saturation, errcolor, errwidth, capsize, dodge)\u001b[0m\n\u001b[0;32m   1582\u001b[0m                  errwidth, capsize, dodge):\n\u001b[0;32m   1583\u001b[0m         \u001b[1;34m\"\"\"Initialize the plotter.\"\"\"\u001b[0m\u001b[1;33m\u001b[0m\u001b[1;33m\u001b[0m\u001b[0m\n\u001b[1;32m-> 1584\u001b[1;33m         self.establish_variables(x, y, hue, data, orient,\n\u001b[0m\u001b[0;32m   1585\u001b[0m                                  order, hue_order, units)\n\u001b[0;32m   1586\u001b[0m         \u001b[0mself\u001b[0m\u001b[1;33m.\u001b[0m\u001b[0mestablish_colors\u001b[0m\u001b[1;33m(\u001b[0m\u001b[0mcolor\u001b[0m\u001b[1;33m,\u001b[0m \u001b[0mpalette\u001b[0m\u001b[1;33m,\u001b[0m \u001b[0msaturation\u001b[0m\u001b[1;33m)\u001b[0m\u001b[1;33m\u001b[0m\u001b[1;33m\u001b[0m\u001b[0m\n",
      "\u001b[1;32mF:\\Users\\Dell\\anaconda3\\lib\\site-packages\\seaborn\\categorical.py\u001b[0m in \u001b[0;36mestablish_variables\u001b[1;34m(self, x, y, hue, data, orient, order, hue_order, units)\u001b[0m\n\u001b[0;32m    151\u001b[0m                 \u001b[1;32mif\u001b[0m \u001b[0misinstance\u001b[0m\u001b[1;33m(\u001b[0m\u001b[0mvar\u001b[0m\u001b[1;33m,\u001b[0m \u001b[0mstr\u001b[0m\u001b[1;33m)\u001b[0m\u001b[1;33m:\u001b[0m\u001b[1;33m\u001b[0m\u001b[1;33m\u001b[0m\u001b[0m\n\u001b[0;32m    152\u001b[0m                     \u001b[0merr\u001b[0m \u001b[1;33m=\u001b[0m \u001b[1;34m\"Could not interpret input '{}'\"\u001b[0m\u001b[1;33m.\u001b[0m\u001b[0mformat\u001b[0m\u001b[1;33m(\u001b[0m\u001b[0mvar\u001b[0m\u001b[1;33m)\u001b[0m\u001b[1;33m\u001b[0m\u001b[1;33m\u001b[0m\u001b[0m\n\u001b[1;32m--> 153\u001b[1;33m                     \u001b[1;32mraise\u001b[0m \u001b[0mValueError\u001b[0m\u001b[1;33m(\u001b[0m\u001b[0merr\u001b[0m\u001b[1;33m)\u001b[0m\u001b[1;33m\u001b[0m\u001b[1;33m\u001b[0m\u001b[0m\n\u001b[0m\u001b[0;32m    154\u001b[0m \u001b[1;33m\u001b[0m\u001b[0m\n\u001b[0;32m    155\u001b[0m             \u001b[1;31m# Figure out the plotting orientation\u001b[0m\u001b[1;33m\u001b[0m\u001b[1;33m\u001b[0m\u001b[1;33m\u001b[0m\u001b[0m\n",
      "\u001b[1;31mValueError\u001b[0m: Could not interpret input 'Month'"
     ]
    }
   ],
   "source": [
    "#Checking ratio of the month and price that which year had max avrg price\n",
    "sns.barplot(x=\"Month\", y= \"AveragePrice\", data=data)"
   ]
  },
  {
   "cell_type": "markdown",
   "id": "d51d66c1",
   "metadata": {},
   "source": [
    "# September and October are the month where max no of average price is there, but the thing is almost for whole year the price is almost same for the avocado this prove that there is so much craze of avocado rather than India."
   ]
  },
  {
   "cell_type": "markdown",
   "id": "786af205",
   "metadata": {},
   "source": [
    "# Plotting Histogram:\n",
    "A histogram shows the frequency on the vertical axis and the horizontal axis is another dimension. Usually it has bins, where every bin has a minimum and maximum value. Each bin also has a frequency between x and infinite\n",
    "So, in this we can also check whether the graph is right skewed, left skew or the graph is normally distributed graph"
   ]
  },
  {
   "cell_type": "code",
   "execution_count": null,
   "id": "b0ff809e",
   "metadata": {},
   "outputs": [],
   "source": [
    "data.hist(figsize=(20,20) , grid = True, layout =(4,4), bins=30)"
   ]
  },
  {
   "cell_type": "markdown",
   "id": "d6e2d918",
   "metadata": {},
   "source": [
    "# Average price column is normally distributing over the histogram.\n",
    "Rest of the data are not much varying in term of numbers, so they are almost left skewed data\n",
    "To make the column as normal distributed we can use different methods, but I am using numPy log to make the skew values as normal distributed.\n"
   ]
  },
  {
   "cell_type": "markdown",
   "id": "7d316b1f",
   "metadata": {},
   "source": [
    "# Above statistics data show that their multiple outliers mostly in XLargeBags There is also difference between mean and 50% value in some of the columns which used to get fix for better prediction\n",
    "Also, number of rows in each column are same, means there are no null values in the data set.\n",
    "Also, the mean and 50%value of most of the column are same and the STD and mean are very close to each other.\n",
    "Most of the column statistics data are near to 0 values.\n",
    "By checking the difference between the 75% and max value there are outliers in some of the column"
   ]
  },
  {
   "cell_type": "code",
   "execution_count": null,
   "id": "69c9cb93",
   "metadata": {},
   "outputs": [],
   "source": [
    "#Checking the skewness\n",
    "data.skew()"
   ]
  },
  {
   "cell_type": "code",
   "execution_count": null,
   "id": "eb7ebfe0",
   "metadata": {},
   "outputs": [],
   "source": [
    "# Maiking the skew less than or equal to 0.55 for better prediction\n",
    "skew=('Total Volume','4046','4225','4770','Total Bags', 'Small Bags','Large Bags','XLarge Bags')\n",
    "for col in skew :\n",
    "    if data.skew().loc[col]>0.55:\n",
    "        data[col] = np.loglp(data[col])"
   ]
  },
  {
   "cell_type": "code",
   "execution_count": null,
   "id": "2b39c0a3",
   "metadata": {},
   "outputs": [],
   "source": [
    "incorrectdata = data[((data['4046'] + data['4225'] + data['4770'] + data['Total Bags']) != data['Total Volume'] ) | ((data['Small Bags'] + data['Large Bags'] + data['XLarge Bags']) != data['Total Bags'] )]\n",
    "correctdata=  data[((data['4046'] + data['4225'] + data['4770'] + data['Total Bags']) == data['Total Volume'] ) & ((data['Small Bags'] + data['Large Bags'] + data['XLarge Bags']) == data['Total Bags'] )]\n",
    "\n",
    "incorrectdata.reset_index(inplace = True)\n",
    "correctdata.reset_index(inplace = True)\n"
   ]
  },
  {
   "cell_type": "code",
   "execution_count": null,
   "id": "21be3695",
   "metadata": {},
   "outputs": [],
   "source": [
    "print(\"Data Total\",data.shape)\n",
    "print(\"Incorrect Data\",incorrectdata.shape)\n",
    "print(\"correct Data\",correctdata.shape)"
   ]
  },
  {
   "cell_type": "code",
   "execution_count": null,
   "id": "37812976",
   "metadata": {},
   "outputs": [],
   "source": [
    "correctdata.isnull().sum()"
   ]
  },
  {
   "cell_type": "code",
   "execution_count": null,
   "id": "70ed3ae2",
   "metadata": {},
   "outputs": [],
   "source": [
    "#average price of avacado price in past 4 years\n",
    "\n",
    "data['AveragePrice'].mean()"
   ]
  },
  {
   "cell_type": "code",
   "execution_count": null,
   "id": "285a0ff8",
   "metadata": {},
   "outputs": [],
   "source": [
    "# average min price of avocado in last 4 years\n",
    "data['AveragePrice'].min()"
   ]
  },
  {
   "cell_type": "code",
   "execution_count": null,
   "id": "867e1f5d",
   "metadata": {},
   "outputs": [],
   "source": [
    "# Max price of avocado in past 4 years\n",
    "data['AveragePrice'].max()"
   ]
  },
  {
   "cell_type": "code",
   "execution_count": null,
   "id": "09f25015",
   "metadata": {},
   "outputs": [],
   "source": [
    "# max avocado sold in last 4 years\n",
    "data['Total Volume'].max()"
   ]
  },
  {
   "cell_type": "code",
   "execution_count": null,
   "id": "7e97badb",
   "metadata": {},
   "outputs": [],
   "source": [
    "# organic and conventional purchase of avocado \n",
    "data['type'].value_counts()"
   ]
  },
  {
   "cell_type": "code",
   "execution_count": null,
   "id": "c770e16d",
   "metadata": {},
   "outputs": [],
   "source": [
    "# checking the co relation between total bags and total volume \n",
    "data[['Total Volume','Total Bags']].corr()"
   ]
  },
  {
   "cell_type": "code",
   "execution_count": null,
   "id": "7db9f2bf",
   "metadata": {},
   "outputs": [],
   "source": [
    "sns.heatmap(data[['Total Volume','Total Bags']].corr())"
   ]
  },
  {
   "cell_type": "code",
   "execution_count": null,
   "id": "9b973820",
   "metadata": {},
   "outputs": [],
   "source": [
    "# what must be the average volume of avacado per year \n",
    "data.groupby('year')['Total Volume'].mean()"
   ]
  },
  {
   "cell_type": "code",
   "execution_count": null,
   "id": "9c26c03b",
   "metadata": {},
   "outputs": [],
   "source": [
    "# average price of avacado depending on the region in last 4 years \n",
    "data.groupby('region')['AveragePrice'].mean()"
   ]
  },
  {
   "cell_type": "code",
   "execution_count": null,
   "id": "b57cea45",
   "metadata": {},
   "outputs": [],
   "source": [
    "# costly avacado more than average in a particular year \n",
    "data[data['AveragePrice'] > data['AveragePrice'].mean()][['AveragePrice','4046','4225','4770']].sort_values(by = ['AveragePrice'])"
   ]
  },
  {
   "cell_type": "code",
   "execution_count": null,
   "id": "d76eaf5d",
   "metadata": {},
   "outputs": [],
   "source": [
    "#Average price of Organic Avocado in last years of which regions\n",
    "organic = data[data['type'] == 'organic']\n",
    "organic"
   ]
  },
  {
   "cell_type": "code",
   "execution_count": null,
   "id": "80234052",
   "metadata": {},
   "outputs": [],
   "source": [
    "#average Organic Avacado cost in last 4 years\n",
    "organic.groupby('year')['AveragePrice'].mean()"
   ]
  },
  {
   "cell_type": "code",
   "execution_count": null,
   "id": "f478e7d2",
   "metadata": {},
   "outputs": [],
   "source": [
    "#list of average Organic Avacado cost in different regions in last 4 years\n",
    "organic.groupby('region')['AveragePrice'].mean().sort_values(ascending=False)"
   ]
  },
  {
   "cell_type": "code",
   "execution_count": null,
   "id": "80196759",
   "metadata": {},
   "outputs": [],
   "source": [
    "# finding sales by regions and later build it by year\n",
    "data.groupby('region')['Total Volume'].mean().sort_values()"
   ]
  },
  {
   "cell_type": "code",
   "execution_count": null,
   "id": "6c42057f",
   "metadata": {},
   "outputs": [],
   "source": [
    "#each year in last 4 years how many types of avacado got sold\n",
    "data.groupby('year')['type'].value_counts()"
   ]
  },
  {
   "cell_type": "code",
   "execution_count": null,
   "id": "b7d81b3b",
   "metadata": {},
   "outputs": [],
   "source": [
    "#total no of sales in each year of last 4 years\n",
    "data.groupby('year')['Total Volume'].count()"
   ]
  },
  {
   "cell_type": "code",
   "execution_count": null,
   "id": "1e9629b2",
   "metadata": {},
   "outputs": [],
   "source": [
    "#Data avialable for each year..in the dataset for last 4 years\n",
    "data.groupby('year')['Total Volume'].size()"
   ]
  },
  {
   "cell_type": "code",
   "execution_count": null,
   "id": "d52fe4ef",
   "metadata": {},
   "outputs": [],
   "source": [
    " #Correlation is a statistical measure that indicates the extent to which two or more variables fluctuate together\n",
    "data[['4046','Small Bags','Total Volume','Total Bags']].corr()"
   ]
  },
  {
   "cell_type": "code",
   "execution_count": null,
   "id": "d972838a",
   "metadata": {},
   "outputs": [],
   "source": [
    "sns.heatmap(data[['4046','Small Bags','Total Volume','Total Bags']].corr())"
   ]
  },
  {
   "cell_type": "code",
   "execution_count": null,
   "id": "9edca919",
   "metadata": {},
   "outputs": [],
   "source": [
    "sns.heatmap(data[['4225','Large Bags','Total Volume','Total Bags']].corr())"
   ]
  },
  {
   "cell_type": "code",
   "execution_count": null,
   "id": "a45011ff",
   "metadata": {},
   "outputs": [],
   "source": [
    "sns.heatmap(data[['4770','XLarge Bags','Total Volume','Total Bags']].corr())"
   ]
  },
  {
   "cell_type": "code",
   "execution_count": null,
   "id": "f372a103",
   "metadata": {},
   "outputs": [],
   "source": [
    "sns.heatmap(data[['4046','4770','4225','Small Bags','Large Bags','XLarge Bags','Total Volume','Total Bags']].corr())"
   ]
  },
  {
   "cell_type": "code",
   "execution_count": null,
   "id": "ce1d6a99",
   "metadata": {},
   "outputs": [],
   "source": [
    "#Average Sales of Avacados by month \n",
    "data['Month'] = data['Date'].apply(lambda date:pd.Period(date, freq='M'))"
   ]
  },
  {
   "cell_type": "code",
   "execution_count": null,
   "id": "e9334511",
   "metadata": {},
   "outputs": [],
   "source": [
    "avg_monthly_sales = data.groupby(data['Month'])['Total Volume'].mean()\n",
    "avg_monthly_sales"
   ]
  },
  {
   "cell_type": "code",
   "execution_count": null,
   "id": "734c675c",
   "metadata": {},
   "outputs": [],
   "source": [
    "sns.distplot(avg_monthly_sales,bins=10, kde=False)\n"
   ]
  },
  {
   "cell_type": "code",
   "execution_count": null,
   "id": "5fbab400",
   "metadata": {},
   "outputs": [],
   "source": [
    "#Sales of Avacados by Quater of each year in last 4 years\n",
    "data['Quater'] = data['Date'].apply(lambda date:pd.Period(date, freq='Q'))"
   ]
  },
  {
   "cell_type": "code",
   "execution_count": null,
   "id": "12fe15a4",
   "metadata": {},
   "outputs": [],
   "source": [
    "data.head(6)"
   ]
  },
  {
   "cell_type": "code",
   "execution_count": null,
   "id": "6ec317f2",
   "metadata": {},
   "outputs": [],
   "source": [
    "avg_Q_sales = data.groupby(data['Quater'])['Total Volume'].mean()"
   ]
  },
  {
   "cell_type": "code",
   "execution_count": null,
   "id": "501cdd3e",
   "metadata": {},
   "outputs": [],
   "source": [
    "avg_Q_sales"
   ]
  },
  {
   "cell_type": "code",
   "execution_count": null,
   "id": "3907f011",
   "metadata": {},
   "outputs": [],
   "source": [
    "#showing the Average price in four years(Avg Price of Avacado ranged between $1.0 and $1.5)\n",
    "sns.distplot(data['AveragePrice'],bins=10, kde=False)"
   ]
  },
  {
   "cell_type": "code",
   "execution_count": null,
   "id": "bfffda1c",
   "metadata": {},
   "outputs": [],
   "source": [
    "#Avg Price of Avacados greater than the Average Price of Avacados in last 4 years\n",
    "sns.jointplot(x='AveragePrice', y='year', data=data[data['AveragePrice'] > data['AveragePrice'].mean()], kind='hex', \n",
    "              gridsize=20)"
   ]
  },
  {
   "cell_type": "code",
   "execution_count": null,
   "id": "42aa9e85",
   "metadata": {},
   "outputs": [],
   "source": [
    "sns.distplot(data.groupby('region')['4225'].mean(),bins=10, kde=False)"
   ]
  },
  {
   "cell_type": "code",
   "execution_count": null,
   "id": "70884fdc",
   "metadata": {},
   "outputs": [],
   "source": [
    "#Average sales of PLU 4770 by region.\n",
    "data.groupby('region')['4770'].mean()\n",
    "sns.distplot(data.groupby('region')['4770'].mean(),bins=10, kde=False)"
   ]
  },
  {
   "cell_type": "code",
   "execution_count": null,
   "id": "f8967edc",
   "metadata": {},
   "outputs": [],
   "source": [
    "#avo.groupby('region')['4046'].mean()\n",
    "## Looks like PLU 4046 and PLU 4225 are preffered same across All S regions.\n",
    "sns.distplot(data.groupby('region')['4046'].mean(),bins=10, kde=False)"
   ]
  },
  {
   "cell_type": "markdown",
   "id": "d2593f3c",
   "metadata": {},
   "source": [
    "# Types of avacado and their prices"
   ]
  },
  {
   "cell_type": "code",
   "execution_count": null,
   "id": "e450e649",
   "metadata": {},
   "outputs": [],
   "source": [
    "#Here we will plot the box plot and compare the type and their prices \n",
    "sns.boxplot(y=\"type\", x=\"AveragePrice\", data=data, palette = 'pink')\n"
   ]
  },
  {
   "cell_type": "markdown",
   "id": "1f8cb682",
   "metadata": {},
   "source": [
    "# Above boxplot we can say that Organic fruit price is more as compared to conventional fruit."
   ]
  },
  {
   "cell_type": "code",
   "execution_count": null,
   "id": "bf3846c8",
   "metadata": {},
   "outputs": [],
   "source": [
    "label = LabelEncoder()\n",
    "dicts = {}\n",
    "\n",
    "label.fit(data.type.drop_duplicates()) \n",
    "dicts['type'] = list(label.classes_)\n",
    "data.type = label.transform(data.type)\n"
   ]
  },
  {
   "cell_type": "code",
   "execution_count": null,
   "id": "9db9010f",
   "metadata": {},
   "outputs": [],
   "source": [
    "cols = ['AveragePrice','type','year','Total Volume','Total Bags']\n",
    "cm = np.corrcoef(data[cols].values.T)\n",
    "sns.set(font_scale = 1.7)\n",
    "hm = sns.heatmap(cm,cbar = True, annot = True,square = True, fmt = '.2f', annot_kws = {'size':15}, yticklabels = cols, xticklabels = cols)\n"
   ]
  },
  {
   "cell_type": "markdown",
   "id": "99962a9c",
   "metadata": {},
   "source": [
    "# From the above we can conclude that  there is a strong relation between TotalBags and TotalVolume ie, 0.96 and also Type and AveragePrice ie, 0.62.\n",
    "Other than that there is weak realation.\n",
    "\n"
   ]
  },
  {
   "cell_type": "code",
   "execution_count": null,
   "id": "88406566",
   "metadata": {},
   "outputs": [],
   "source": [
    "#Lets check with the Region Vs Year distribution¶"
   ]
  },
  {
   "cell_type": "code",
   "execution_count": null,
   "id": "314655fc",
   "metadata": {},
   "outputs": [],
   "source": [
    "plt.figure(figsize=(12,20))\n",
    "sns.set_style('whitegrid')\n",
    "sns.pointplot(x='AveragePrice',y='region',data=data, hue='year',join=False)\n",
    "plt.xticks(np.linspace(1,2,5))\n",
    "plt.xlabel('Region',{'fontsize' : 'large'})\n",
    "plt.ylabel('AveragePrice',{'fontsize':'large'})\n",
    "plt.title(\"Yearly Average Price in Each Region\",{'fontsize':20})"
   ]
  },
  {
   "cell_type": "markdown",
   "id": "3063fb8b",
   "metadata": {},
   "source": [
    "# The Above graph shows that the year 2017 the HartfordSpringfield region being the maximum consumption of Avocado."
   ]
  },
  {
   "cell_type": "code",
   "execution_count": null,
   "id": "d84ac2dc",
   "metadata": {},
   "outputs": [],
   "source": [
    "#Lets check Region Vs AveragePrice distribution also\n",
    "plt.figure(figsize=(12,20))\n",
    "sns.set_style('whitegrid')\n",
    "sns.pointplot(x='AveragePrice', y='region', data=data, hue='type',join=False)\n",
    "plt.xticks(np.linspace(1,2,5))\n",
    "plt.xlabel('region',{'fontsize' : 'large'})\n",
    "plt.ylabel('AveragePrice',{'fontsize':'large'})\n",
    "plt.title(\"Type Average Price in Each Region\",{'fontsize':20})\n"
   ]
  },
  {
   "cell_type": "markdown",
   "id": "1f5fa1f9",
   "metadata": {},
   "source": [
    "# Here from the above graph we can say that Organic Type Avocado prices are high in HartfordSpringfield and Sanfrancisco region."
   ]
  },
  {
   "cell_type": "code",
   "execution_count": null,
   "id": "c7224cf1",
   "metadata": {},
   "outputs": [],
   "source": [
    "# Now we will classify the types of avocado using logistic regression\n",
    "from sklearn.model_selection import train_test_split\n",
    "\n",
    "X=data[['AveragePrice', '4046', '4225', '4770', 'Small Bags', 'Large Bags', 'XLarge Bags']] #feature columns\n",
    "y=data.type #predictor variable\n",
    "\n",
    "X_train, X_test, y_train, y_test = train_test_split(X, y, test_size=0.20, random_state=1)\n",
    "\n",
    "print(\"X Train Shape \",X_train.shape)\n",
    "print(\"Y Train Shape \",y_train.shape)\n",
    "\n",
    "print(\"X Test Shape \",X_test.shape)\n",
    "print(\"Y Test Shape \",y_test.shape)"
   ]
  },
  {
   "cell_type": "code",
   "execution_count": null,
   "id": "74b72321",
   "metadata": {},
   "outputs": [],
   "source": [
    "#Logistic Regression model\n",
    "logreg = LogisticRegression()\n",
    "logreg.fit(X_train,y_train)\n",
    "\n",
    "y_pred_train = logreg.predict(X_train)  \n",
    "y_pred_test = logreg.predict(X_test)  \n",
    "\n",
    "#Acuuracy score\n",
    "print('Accuracy score for Logistic Regression test data is:', accuracy_score(y_test,y_pred_test))\n",
    "\n",
    "\n",
    "\n",
    "#Confusion matrix\n",
    "from sklearn.metrics import confusion_matrix\n",
    "confusion_matrix = pd.DataFrame(confusion_matrix(y_test, y_pred_test))\n",
    "confusion_matrix.index = ['organic','Conventional']\n",
    "confusion_matrix.columns = ['Predicted organic','Predicted Conventional']\n",
    "print(\"Confusion matrix for logistic regression model\")\n",
    "print(confusion_matrix)\n",
    "\n",
    "\n"
   ]
  },
  {
   "cell_type": "code",
   "execution_count": null,
   "id": "6a19e8ff",
   "metadata": {},
   "outputs": [],
   "source": [
    "#Lets try using Random forest classifier\n",
    "#Randomforest classifier\n",
    "rfclass = RandomForestClassifier(random_state = 0)\n",
    "rfclass.fit(X_train, y_train)\n",
    "\n",
    "y_pred_train = rfclass.predict(X_train)\n",
    "y_pred_test = rfclass.predict(X_test)\n",
    "\n",
    "#Accuracy score\n",
    "print('Accuracy score for test data using Random Forest :', accuracy_score(y_test,y_pred_test))\n",
    "\n",
    "\n",
    "#Confusion matrix\n",
    "from sklearn.metrics import confusion_matrix\n",
    "confusion_matrix = pd.DataFrame(confusion_matrix(y_test, y_pred_test))\n",
    "confusion_matrix.index = ['organic','Conventional']\n",
    "confusion_matrix.columns = ['Predicted organic','Predicted Conventional']\n",
    "print(\"Confusion matrix for Random forest model\")\n",
    "print(confusion_matrix)\n",
    "\n",
    "\n"
   ]
  },
  {
   "cell_type": "code",
   "execution_count": null,
   "id": "1c1522df",
   "metadata": {},
   "outputs": [],
   "source": [
    "#Lets predict the price of avocado\n",
    "data.drop(['Date', 'Total Volume', 'Total Bags', 'region', 'year'], axis = 1,inplace = True)\n"
   ]
  },
  {
   "cell_type": "code",
   "execution_count": null,
   "id": "1588dc73",
   "metadata": {},
   "outputs": [],
   "source": [
    "data.columns\n"
   ]
  },
  {
   "cell_type": "code",
   "execution_count": 23,
   "id": "263d472f",
   "metadata": {},
   "outputs": [
    {
     "data": {
      "image/png": "[encoded data removed]",
      "text/plain": [
       "<Figure size 648x360 with 1 Axes>"
      ]
     },
     "metadata": {
      "needs_background": "light"
     },
     "output_type": "display_data"
    }
   ],
   "source": [
    "data['type']= data['type'].map({'conventional':0,'organic':1})\n",
    "\n",
    "# Extracting month from date column.\n",
    "data.Date = data.Date.apply(pd.to_datetime)\n",
    "data['Month']=data['Date'].apply(lambda x:x.month)\n",
    "data.drop('Date',axis=1,inplace=True)\n",
    "data.Month = data.Month.map({1:'JAN',2:'FEB',3:'MARCH',4:'APRIL',5:'MAY',6:'JUNE',7:'JULY',8:'AUG',9:'SEPT',10:'OCT',11:'NOV',12:'DEC'})\n",
    "plt.figure(figsize=(9,5))\n",
    "sns.countplot(data['Month'])\n",
    "plt.title('Monthwise Distribution of Sales',fontdict={'fontsize':25});"
   ]
  },
  {
   "cell_type": "code",
   "execution_count": 24,
   "id": "5c4f7b51",
   "metadata": {},
   "outputs": [],
   "source": [
    "dummies = pd.get_dummies(data[['year','region','Month']],drop_first=True)\n",
    "df_dummies = pd.concat([data[['Total Volume', '4046', '4225', '4770', 'Total Bags',\n",
    "       'Small Bags', 'Large Bags', 'XLarge Bags', 'type']],dummies],axis=1)\n",
    "target = data['AveragePrice']\n",
    "\n",
    "# Splitting data into training and test set\n",
    "from sklearn.model_selection import train_test_split\n",
    "X_train, X_test, y_train, y_test = train_test_split(df_dummies,target,test_size=0.30)\n",
    "\n",
    "# Standardizing the data\n",
    "cols_to_std = ['Total Volume', '4046', '4225', '4770', 'Total Bags', 'Small Bags','Large Bags', 'XLarge Bags']\n",
    "from sklearn.preprocessing import StandardScaler\n",
    "scaler=StandardScaler()\n",
    "scaler.fit(X_train[cols_to_std])\n",
    "X_train[cols_to_std] = scaler.transform(X_train[cols_to_std])\n",
    "X_test[cols_to_std] = scaler.transform(X_test[cols_to_std])"
   ]
  },
  {
   "cell_type": "code",
   "execution_count": 25,
   "id": "b9679960",
   "metadata": {},
   "outputs": [
    {
     "name": "stdout",
     "output_type": "stream",
     "text": [
      "Requirement already satisfied: xgboost in f:\\users\\dell\\anaconda3\\lib\\site-packages (1.5.1)\n",
      "Requirement already satisfied: numpy in f:\\users\\dell\\anaconda3\\lib\\site-packages (from xgboost) (1.20.1)\n",
      "Requirement already satisfied: scipy in f:\\users\\dell\\anaconda3\\lib\\site-packages (from xgboost) (1.6.2)\n"
     ]
    }
   ],
   "source": [
    "!pip install xgboost"
   ]
  },
  {
   "cell_type": "code",
   "execution_count": 26,
   "id": "ae990600",
   "metadata": {},
   "outputs": [],
   "source": [
    "from sklearn.linear_model import LinearRegression\n",
    "from sklearn.tree import DecisionTreeRegressor\n",
    "from sklearn.ensemble import RandomForestRegressor\n",
    "from sklearn.svm import SVR\n",
    "from sklearn.neighbors import KNeighborsRegressor\n",
    "from xgboost import XGBRegressor\n",
    "from sklearn.metrics import mean_absolute_error,mean_squared_error,r2_score"
   ]
  },
  {
   "cell_type": "code",
   "execution_count": 27,
   "id": "20b757f6",
   "metadata": {},
   "outputs": [],
   "source": [
    "regressors = {\n",
    "    'Linear Regression' : LinearRegression(),\n",
    "    'Decision Tree' : DecisionTreeRegressor(),\n",
    "    'Random Forest' : RandomForestRegressor(),\n",
    "    'Support Vector Machines' : SVR(gamma=1),\n",
    "    'K-nearest Neighbors' : KNeighborsRegressor(n_neighbors=1),\n",
    "    'XGBoost' : XGBRegressor()\n",
    "}\n",
    "results=pd.DataFrame(columns=['MAE','MSE','R2-score'])\n",
    "for method,func in regressors.items():\n",
    "    model = func.fit(X_train,y_train)\n",
    "    pred = model.predict(X_test)\n",
    "    results.loc[method]= [np.round(mean_absolute_error(y_test,pred),3),\n",
    "                          np.round(mean_squared_error(y_test,pred),3),\n",
    "                          np.round(r2_score(y_test,pred),3)\n",
    "                         ]"
   ]
  },
  {
   "cell_type": "code",
   "execution_count": 28,
   "id": "0f26c7f3",
   "metadata": {},
   "outputs": [],
   "source": [
    "# Splitting train set into training and validation sets.\n",
    "X_train, X_val, y_train, y_val = train_test_split(X_train,y_train,test_size=0.20)\n",
    "\n"
   ]
  },
  {
   "cell_type": "code",
   "execution_count": 29,
   "id": "8d68a0e3",
   "metadata": {},
   "outputs": [
    {
     "name": "stdout",
     "output_type": "stream",
     "text": [
      "Requirement already satisfied: tensorflow in f:\\users\\dell\\anaconda3\\lib\\site-packages (2.7.0)\n",
      "Requirement already satisfied: grpcio<2.0,>=1.24.3 in f:\\users\\dell\\anaconda3\\lib\\site-packages (from tensorflow) (1.42.0)\n",
      "Requirement already satisfied: keras-preprocessing>=1.1.1 in f:\\users\\dell\\anaconda3\\lib\\site-packages (from tensorflow) (1.1.2)\n",
      "Requirement already satisfied: gast<0.5.0,>=0.2.1 in f:\\users\\dell\\anaconda3\\lib\\site-packages (from tensorflow) (0.4.0)\n",
      "Requirement already satisfied: astunparse>=1.6.0 in f:\\users\\dell\\anaconda3\\lib\\site-packages (from tensorflow) (1.6.3)\n",
      "Requirement already satisfied: protobuf>=3.9.2 in f:\\users\\dell\\anaconda3\\lib\\site-packages (from tensorflow) (3.17.3)\n",
      "Requirement already satisfied: tensorflow-estimator<2.8,~=2.7.0rc0 in f:\\users\\dell\\anaconda3\\lib\\site-packages (from tensorflow) (2.7.0)\n",
      "Requirement already satisfied: flatbuffers<3.0,>=1.12 in f:\\users\\dell\\anaconda3\\lib\\site-packages (from tensorflow) (2.0)\n",
      "Requirement already satisfied: opt-einsum>=2.3.2 in f:\\users\\dell\\anaconda3\\lib\\site-packages (from tensorflow) (3.3.0)\n",
      "Requirement already satisfied: typing-extensions>=3.6.6 in f:\\users\\dell\\anaconda3\\lib\\site-packages (from tensorflow) (4.0.1)\n",
      "Requirement already satisfied: h5py>=2.9.0 in f:\\users\\dell\\anaconda3\\lib\\site-packages (from tensorflow) (2.10.0)\n",
      "Requirement already satisfied: six>=1.12.0 in f:\\users\\dell\\anaconda3\\lib\\site-packages (from tensorflow) (1.15.0)\n",
      "Requirement already satisfied: wrapt>=1.11.0 in f:\\users\\dell\\anaconda3\\lib\\site-packages (from tensorflow) (1.12.1)\n",
      "Requirement already satisfied: absl-py>=0.4.0 in f:\\users\\dell\\anaconda3\\lib\\site-packages (from tensorflow) (1.0.0)\n",
      "Requirement already satisfied: wheel<1.0,>=0.32.0 in f:\\users\\dell\\anaconda3\\lib\\site-packages (from tensorflow) (0.36.2)\n",
      "Requirement already satisfied: tensorflow-io-gcs-filesystem>=0.21.0 in f:\\users\\dell\\anaconda3\\lib\\site-packages (from tensorflow) (0.22.0)\n",
      "Requirement already satisfied: libclang>=9.0.1 in f:\\users\\dell\\anaconda3\\lib\\site-packages (from tensorflow) (12.0.0)\n",
      "Requirement already satisfied: tensorboard~=2.6 in f:\\users\\dell\\anaconda3\\lib\\site-packages (from tensorflow) (2.7.0)\n",
      "Requirement already satisfied: keras<2.8,>=2.7.0rc0 in f:\\users\\dell\\anaconda3\\lib\\site-packages (from tensorflow) (2.7.0)\n",
      "Requirement already satisfied: termcolor>=1.1.0 in f:\\users\\dell\\anaconda3\\lib\\site-packages (from tensorflow) (1.1.0)\n",
      "Requirement already satisfied: numpy>=1.14.5 in f:\\users\\dell\\anaconda3\\lib\\site-packages (from tensorflow) (1.20.1)\n",
      "Requirement already satisfied: google-pasta>=0.1.1 in f:\\users\\dell\\anaconda3\\lib\\site-packages (from tensorflow) (0.2.0)\n",
      "Requirement already satisfied: google-auth<3,>=1.6.3 in f:\\users\\dell\\anaconda3\\lib\\site-packages (from tensorboard~=2.6->tensorflow) (2.3.3)\n",
      "Requirement already satisfied: werkzeug>=0.11.15 in f:\\users\\dell\\anaconda3\\lib\\site-packages (from tensorboard~=2.6->tensorflow) (1.0.1)\n",
      "Requirement already satisfied: setuptools>=41.0.0 in f:\\users\\dell\\anaconda3\\lib\\site-packages (from tensorboard~=2.6->tensorflow) (52.0.0.post20210125)\n",
      "Requirement already satisfied: tensorboard-data-server<0.7.0,>=0.6.0 in f:\\users\\dell\\anaconda3\\lib\\site-packages (from tensorboard~=2.6->tensorflow) (0.6.1)\n",
      "Requirement already satisfied: markdown>=2.6.8 in f:\\users\\dell\\anaconda3\\lib\\site-packages (from tensorboard~=2.6->tensorflow) (3.3.6)\n",
      "Requirement already satisfied: requests<3,>=2.21.0 in f:\\users\\dell\\anaconda3\\lib\\site-packages (from tensorboard~=2.6->tensorflow) (2.25.1)\n",
      "Requirement already satisfied: tensorboard-plugin-wit>=1.6.0 in f:\\users\\dell\\anaconda3\\lib\\site-packages (from tensorboard~=2.6->tensorflow) (1.8.0)\n",
      "Requirement already satisfied: google-auth-oauthlib<0.5,>=0.4.1 in f:\\users\\dell\\anaconda3\\lib\\site-packages (from tensorboard~=2.6->tensorflow) (0.4.6)\n",
      "Requirement already satisfied: pyasn1-modules>=0.2.1 in f:\\users\\dell\\anaconda3\\lib\\site-packages (from google-auth<3,>=1.6.3->tensorboard~=2.6->tensorflow) (0.2.8)\n",
      "Requirement already satisfied: cachetools<5.0,>=2.0.0 in f:\\users\\dell\\anaconda3\\lib\\site-packages (from google-auth<3,>=1.6.3->tensorboard~=2.6->tensorflow) (4.2.4)\n",
      "Requirement already satisfied: rsa<5,>=3.1.4 in f:\\users\\dell\\anaconda3\\lib\\site-packages (from google-auth<3,>=1.6.3->tensorboard~=2.6->tensorflow) (4.8)\n",
      "Requirement already satisfied: requests-oauthlib>=0.7.0 in f:\\users\\dell\\anaconda3\\lib\\site-packages (from google-auth-oauthlib<0.5,>=0.4.1->tensorboard~=2.6->tensorflow) (1.3.0)\n",
      "Requirement already satisfied: importlib-metadata>=4.4 in f:\\users\\dell\\anaconda3\\lib\\site-packages (from markdown>=2.6.8->tensorboard~=2.6->tensorflow) (4.8.2)\n",
      "Requirement already satisfied: zipp>=0.5 in f:\\users\\dell\\anaconda3\\lib\\site-packages (from importlib-metadata>=4.4->markdown>=2.6.8->tensorboard~=2.6->tensorflow) (3.4.1)\n",
      "Requirement already satisfied: pyasn1<0.5.0,>=0.4.6 in f:\\users\\dell\\anaconda3\\lib\\site-packages (from pyasn1-modules>=0.2.1->google-auth<3,>=1.6.3->tensorboard~=2.6->tensorflow) (0.4.8)\n",
      "Requirement already satisfied: certifi>=2017.4.17 in f:\\users\\dell\\anaconda3\\lib\\site-packages (from requests<3,>=2.21.0->tensorboard~=2.6->tensorflow) (2020.12.5)\n",
      "Requirement already satisfied: urllib3<1.27,>=1.21.1 in f:\\users\\dell\\anaconda3\\lib\\site-packages (from requests<3,>=2.21.0->tensorboard~=2.6->tensorflow) (1.26.4)\n",
      "Requirement already satisfied: chardet<5,>=3.0.2 in f:\\users\\dell\\anaconda3\\lib\\site-packages (from requests<3,>=2.21.0->tensorboard~=2.6->tensorflow) (4.0.0)\n",
      "Requirement already satisfied: idna<3,>=2.5 in f:\\users\\dell\\anaconda3\\lib\\site-packages (from requests<3,>=2.21.0->tensorboard~=2.6->tensorflow) (2.10)\n",
      "Requirement already satisfied: oauthlib>=3.0.0 in f:\\users\\dell\\anaconda3\\lib\\site-packages (from requests-oauthlib>=0.7.0->google-auth-oauthlib<0.5,>=0.4.1->tensorboard~=2.6->tensorflow) (3.1.1)\n"
     ]
    }
   ],
   "source": [
    "!pip install tensorflow"
   ]
  },
  {
   "cell_type": "code",
   "execution_count": 30,
   "id": "c419ede0",
   "metadata": {},
   "outputs": [],
   "source": [
    "import tensorflow as tf\n",
    "from tensorflow.keras.models import Sequential\n",
    "from tensorflow.keras.layers import Dense, Activation,Dropout\n",
    "from tensorflow.keras.optimizers import Adam\n",
    "from tensorflow.keras.callbacks import EarlyStopping"
   ]
  },
  {
   "cell_type": "code",
   "execution_count": 31,
   "id": "9e04f610",
   "metadata": {},
   "outputs": [],
   "source": [
    "model = Sequential()\n",
    "model.add(Dense(76,activation='relu',kernel_initializer=tf.random_uniform_initializer(minval=-0.1, maxval=0.1),\n",
    "    bias_initializer=tf.random_uniform_initializer(minval=-0.1, maxval=0.1)))\n",
    "model.add(Dense(200,activation='relu',kernel_initializer=tf.random_uniform_initializer(minval=-0.1, maxval=0.1),\n",
    "    bias_initializer=tf.random_uniform_initializer(minval=-0.1, maxval=0.1)))\n",
    "model.add(Dropout(0.5))\n",
    "model.add(Dense(200,activation='relu',kernel_initializer=tf.random_uniform_initializer(minval=-0.1, maxval=0.1),\n",
    "    bias_initializer=tf.random_uniform_initializer(minval=-0.1, maxval=0.1)))\n",
    "model.add(Dropout(0.5))\n",
    "model.add(Dense(200,activation='relu',kernel_initializer=tf.random_uniform_initializer(minval=-0.1, maxval=0.1),\n",
    "    bias_initializer=tf.random_uniform_initializer(minval=-0.1, maxval=0.1)))\n",
    "model.add(Dropout(0.5))\n",
    "model.add(Dense(1))\n",
    "\n",
    "model.compile(optimizer='Adam', loss='mean_squared_error')\n",
    "early_stop = EarlyStopping(monitor='val_loss', mode='min', verbose=0, patience=10)"
   ]
  },
  {
   "cell_type": "code",
   "execution_count": 32,
   "id": "249bc26b",
   "metadata": {},
   "outputs": [
    {
     "name": "stdout",
     "output_type": "stream",
     "text": [
      "Epoch 1/150\n",
      "103/103 [==============================] - 5s 9ms/step - loss: 95.7132 - val_loss: 1.3593\n",
      "Epoch 2/150\n",
      "103/103 [==============================] - 1s 6ms/step - loss: 0.8505 - val_loss: 0.9030\n",
      "Epoch 3/150\n",
      "103/103 [==============================] - 1s 5ms/step - loss: 0.4936 - val_loss: 0.6519\n",
      "Epoch 4/150\n",
      "103/103 [==============================] - 1s 5ms/step - loss: 0.3954 - val_loss: 0.5684\n",
      "Epoch 5/150\n",
      "103/103 [==============================] - 1s 5ms/step - loss: 0.3437 - val_loss: 0.4937\n",
      "Epoch 6/150\n",
      "103/103 [==============================] - 1s 6ms/step - loss: 0.3030 - val_loss: 0.4462\n",
      "Epoch 7/150\n",
      "103/103 [==============================] - 1s 6ms/step - loss: 0.2729 - val_loss: 0.3418\n",
      "Epoch 8/150\n",
      "103/103 [==============================] - 1s 7ms/step - loss: 0.2407 - val_loss: 0.2403\n",
      "Epoch 9/150\n",
      "103/103 [==============================] - 1s 6ms/step - loss: 0.2144 - val_loss: 0.1862\n",
      "Epoch 10/150\n",
      "103/103 [==============================] - 1s 6ms/step - loss: 0.1969 - val_loss: 0.1700\n",
      "Epoch 11/150\n",
      "103/103 [==============================] - 1s 6ms/step - loss: 0.1918 - val_loss: 0.1725\n",
      "Epoch 12/150\n",
      "103/103 [==============================] - 1s 6ms/step - loss: 0.1854 - val_loss: 0.1707\n",
      "Epoch 13/150\n",
      "103/103 [==============================] - 1s 6ms/step - loss: 0.1865 - val_loss: 0.1700\n",
      "Epoch 14/150\n",
      "103/103 [==============================] - 1s 6ms/step - loss: 0.1847 - val_loss: 0.1703\n",
      "Epoch 15/150\n",
      "103/103 [==============================] - 1s 6ms/step - loss: 0.1821 - val_loss: 0.1699\n",
      "Epoch 16/150\n",
      "103/103 [==============================] - 1s 6ms/step - loss: 0.1835 - val_loss: 0.1693\n",
      "Epoch 17/150\n",
      "103/103 [==============================] - 1s 6ms/step - loss: 0.1810 - val_loss: 0.1702\n",
      "Epoch 18/150\n",
      "103/103 [==============================] - 1s 7ms/step - loss: 0.1783 - val_loss: 0.1689\n",
      "Epoch 19/150\n",
      "103/103 [==============================] - 1s 7ms/step - loss: 0.1788 - val_loss: 0.1692\n",
      "Epoch 20/150\n",
      "103/103 [==============================] - 1s 6ms/step - loss: 0.1765 - val_loss: 0.1683\n",
      "Epoch 21/150\n",
      "103/103 [==============================] - 1s 6ms/step - loss: 0.1767 - val_loss: 0.1689\n",
      "Epoch 22/150\n",
      "103/103 [==============================] - 1s 6ms/step - loss: 0.1766 - val_loss: 0.1685\n",
      "Epoch 23/150\n",
      "103/103 [==============================] - 1s 7ms/step - loss: 0.1753 - val_loss: 0.1698\n",
      "Epoch 24/150\n",
      "103/103 [==============================] - 1s 7ms/step - loss: 0.1753 - val_loss: 0.1690\n",
      "Epoch 25/150\n",
      "103/103 [==============================] - 1s 7ms/step - loss: 0.1765 - val_loss: 0.1684\n",
      "Epoch 26/150\n",
      "103/103 [==============================] - 1s 7ms/step - loss: 0.1738 - val_loss: 0.1687\n",
      "Epoch 27/150\n",
      "103/103 [==============================] - 1s 7ms/step - loss: 0.1734 - val_loss: 0.1682\n",
      "Epoch 28/150\n",
      "103/103 [==============================] - 1s 7ms/step - loss: 0.1728 - val_loss: 0.1690\n",
      "Epoch 29/150\n",
      "103/103 [==============================] - 1s 7ms/step - loss: 0.1741 - val_loss: 0.1687\n",
      "Epoch 30/150\n",
      "103/103 [==============================] - 1s 7ms/step - loss: 0.1737 - val_loss: 0.1682\n",
      "Epoch 31/150\n",
      "103/103 [==============================] - 1s 6ms/step - loss: 0.1734 - val_loss: 0.1682\n",
      "Epoch 32/150\n",
      "103/103 [==============================] - 1s 5ms/step - loss: 0.1733 - val_loss: 0.1685\n",
      "Epoch 33/150\n",
      "103/103 [==============================] - 1s 5ms/step - loss: 0.1725 - val_loss: 0.1688\n",
      "Epoch 34/150\n",
      "103/103 [==============================] - 1s 6ms/step - loss: 0.1718 - val_loss: 0.1695\n",
      "Epoch 35/150\n",
      "103/103 [==============================] - 1s 6ms/step - loss: 0.1721 - val_loss: 0.1685\n",
      "Epoch 36/150\n",
      "103/103 [==============================] - 1s 7ms/step - loss: 0.1720 - val_loss: 0.1693\n",
      "Epoch 37/150\n",
      "103/103 [==============================] - 1s 7ms/step - loss: 0.1713 - val_loss: 0.1687\n"
     ]
    },
    {
     "data": {
      "text/plain": [
       "<keras.callbacks.History at 0x21bb40c4910>"
      ]
     },
     "execution_count": 32,
     "metadata": {},
     "output_type": "execute_result"
    }
   ],
   "source": [
    "model.fit(x=X_train.values,y=y_train.values,\n",
    "          validation_data=(X_val.values,y_val.values),\n",
    "          batch_size=100,epochs=150,callbacks=[early_stop])"
   ]
  },
  {
   "cell_type": "code",
   "execution_count": 33,
   "id": "207bc8e2",
   "metadata": {},
   "outputs": [
    {
     "data": {
      "image/png": "[encoded data removed]",
      "text/plain": [
       "<Figure size 432x288 with 1 Axes>"
      ]
     },
     "metadata": {
      "needs_background": "light"
     },
     "output_type": "display_data"
    }
   ],
   "source": [
    "losses = pd.DataFrame(model.history.history)\n",
    "losses[['loss','val_loss']].plot();"
   ]
  },
  {
   "cell_type": "code",
   "execution_count": 34,
   "id": "b7f81c75",
   "metadata": {},
   "outputs": [],
   "source": [
    "dnn_pred = model.predict(X_test)"
   ]
  },
  {
   "cell_type": "code",
   "execution_count": 35,
   "id": "412da37c",
   "metadata": {},
   "outputs": [
    {
     "data": {
      "text/html": [
       "<div>\n",
       "<style scoped>\n",
       "    .dataframe tbody tr th:only-of-type {\n",
       "        vertical-align: middle;\n",
       "    }\n",
       "\n",
       "    .dataframe tbody tr th {\n",
       "        vertical-align: top;\n",
       "    }\n",
       "\n",
       "    .dataframe thead th {\n",
       "        text-align: right;\n",
       "    }\n",
       "</style>\n",
       "<table border=\"1\" class=\"dataframe\">\n",
       "  <thead>\n",
       "    <tr style=\"text-align: right;\">\n",
       "      <th></th>\n",
       "      <th>MAE</th>\n",
       "      <th>MSE</th>\n",
       "      <th>R2-score</th>\n",
       "    </tr>\n",
       "  </thead>\n",
       "  <tbody>\n",
       "    <tr>\n",
       "      <th>Linear Regression</th>\n",
       "      <td>0.192</td>\n",
       "      <td>0.063</td>\n",
       "      <td>0.612</td>\n",
       "    </tr>\n",
       "    <tr>\n",
       "      <th>Decision Tree</th>\n",
       "      <td>0.137</td>\n",
       "      <td>0.045</td>\n",
       "      <td>0.727</td>\n",
       "    </tr>\n",
       "    <tr>\n",
       "      <th>Random Forest</th>\n",
       "      <td>0.097</td>\n",
       "      <td>0.019</td>\n",
       "      <td>0.884</td>\n",
       "    </tr>\n",
       "    <tr>\n",
       "      <th>Support Vector Machines</th>\n",
       "      <td>0.118</td>\n",
       "      <td>0.027</td>\n",
       "      <td>0.835</td>\n",
       "    </tr>\n",
       "    <tr>\n",
       "      <th>K-nearest Neighbors</th>\n",
       "      <td>0.101</td>\n",
       "      <td>0.024</td>\n",
       "      <td>0.855</td>\n",
       "    </tr>\n",
       "    <tr>\n",
       "      <th>XGBoost</th>\n",
       "      <td>0.096</td>\n",
       "      <td>0.017</td>\n",
       "      <td>0.893</td>\n",
       "    </tr>\n",
       "    <tr>\n",
       "      <th>Deep Neural Network</th>\n",
       "      <td>0.324</td>\n",
       "      <td>0.164</td>\n",
       "      <td>-0.003</td>\n",
       "    </tr>\n",
       "  </tbody>\n",
       "</table>\n",
       "</div>"
      ],
      "text/plain": [
       "                           MAE    MSE  R2-score\n",
       "Linear Regression        0.192  0.063     0.612\n",
       "Decision Tree            0.137  0.045     0.727\n",
       "Random Forest            0.097  0.019     0.884\n",
       "Support Vector Machines  0.118  0.027     0.835\n",
       "K-nearest Neighbors      0.101  0.024     0.855\n",
       "XGBoost                  0.096  0.017     0.893\n",
       "Deep Neural Network      0.324  0.164    -0.003"
      ]
     },
     "execution_count": 35,
     "metadata": {},
     "output_type": "execute_result"
    }
   ],
   "source": [
    "results.loc['Deep Neural Network']=[mean_absolute_error(y_test,dnn_pred).round(3),mean_squared_error(y_test,dnn_pred).round(3),\n",
    "                                    r2_score(y_test,dnn_pred).round(3)]\n",
    "results"
   ]
  },
  {
   "cell_type": "code",
   "execution_count": 36,
   "id": "049acdd6",
   "metadata": {},
   "outputs": [
    {
     "data": {
      "text/plain": [
       "'10% of mean of target variable is 0.141'"
      ]
     },
     "execution_count": 36,
     "metadata": {},
     "output_type": "execute_result"
    }
   ],
   "source": [
    "f\"10% of mean of target variable is {np.round(0.1 * data.AveragePrice.mean(),3)}\"\n"
   ]
  },
  {
   "cell_type": "markdown",
   "id": "62a0b2f8",
   "metadata": {},
   "source": [
    "# Let's have a look at methods performing best as they have R2-score close to 1."
   ]
  },
  {
   "cell_type": "code",
   "execution_count": 37,
   "id": "44e5bd91",
   "metadata": {},
   "outputs": [
    {
     "data": {
      "text/html": [
       "<style  type=\"text/css\" >\n",
       "#T_bb338_row0_col2{\n",
       "            background-color:  #00441b;\n",
       "            color:  #f1f1f1;\n",
       "        }#T_bb338_row1_col2{\n",
       "            background-color:  #00471c;\n",
       "            color:  #f1f1f1;\n",
       "        }#T_bb338_row2_col2{\n",
       "            background-color:  #005120;\n",
       "            color:  #f1f1f1;\n",
       "        }#T_bb338_row3_col2{\n",
       "            background-color:  #005924;\n",
       "            color:  #f1f1f1;\n",
       "        }#T_bb338_row4_col2{\n",
       "            background-color:  #117b38;\n",
       "            color:  #f1f1f1;\n",
       "        }#T_bb338_row5_col2{\n",
       "            background-color:  #329b51;\n",
       "            color:  #000000;\n",
       "        }#T_bb338_row6_col2{\n",
       "            background-color:  #f7fcf5;\n",
       "            color:  #000000;\n",
       "        }</style><table id=\"T_bb338_\" ><thead>    <tr>        <th class=\"blank level0\" ></th>        <th class=\"col_heading level0 col0\" >MAE</th>        <th class=\"col_heading level0 col1\" >MSE</th>        <th class=\"col_heading level0 col2\" >R2-score</th>    </tr></thead><tbody>\n",
       "                <tr>\n",
       "                        <th id=\"T_bb338_level0_row0\" class=\"row_heading level0 row0\" >XGBoost</th>\n",
       "                        <td id=\"T_bb338_row0_col0\" class=\"data row0 col0\" >0.096000</td>\n",
       "                        <td id=\"T_bb338_row0_col1\" class=\"data row0 col1\" >0.017000</td>\n",
       "                        <td id=\"T_bb338_row0_col2\" class=\"data row0 col2\" >0.893000</td>\n",
       "            </tr>\n",
       "            <tr>\n",
       "                        <th id=\"T_bb338_level0_row1\" class=\"row_heading level0 row1\" >Random Forest</th>\n",
       "                        <td id=\"T_bb338_row1_col0\" class=\"data row1 col0\" >0.097000</td>\n",
       "                        <td id=\"T_bb338_row1_col1\" class=\"data row1 col1\" >0.019000</td>\n",
       "                        <td id=\"T_bb338_row1_col2\" class=\"data row1 col2\" >0.884000</td>\n",
       "            </tr>\n",
       "            <tr>\n",
       "                        <th id=\"T_bb338_level0_row2\" class=\"row_heading level0 row2\" >K-nearest Neighbors</th>\n",
       "                        <td id=\"T_bb338_row2_col0\" class=\"data row2 col0\" >0.101000</td>\n",
       "                        <td id=\"T_bb338_row2_col1\" class=\"data row2 col1\" >0.024000</td>\n",
       "                        <td id=\"T_bb338_row2_col2\" class=\"data row2 col2\" >0.855000</td>\n",
       "            </tr>\n",
       "            <tr>\n",
       "                        <th id=\"T_bb338_level0_row3\" class=\"row_heading level0 row3\" >Support Vector Machines</th>\n",
       "                        <td id=\"T_bb338_row3_col0\" class=\"data row3 col0\" >0.118000</td>\n",
       "                        <td id=\"T_bb338_row3_col1\" class=\"data row3 col1\" >0.027000</td>\n",
       "                        <td id=\"T_bb338_row3_col2\" class=\"data row3 col2\" >0.835000</td>\n",
       "            </tr>\n",
       "            <tr>\n",
       "                        <th id=\"T_bb338_level0_row4\" class=\"row_heading level0 row4\" >Decision Tree</th>\n",
       "                        <td id=\"T_bb338_row4_col0\" class=\"data row4 col0\" >0.137000</td>\n",
       "                        <td id=\"T_bb338_row4_col1\" class=\"data row4 col1\" >0.045000</td>\n",
       "                        <td id=\"T_bb338_row4_col2\" class=\"data row4 col2\" >0.727000</td>\n",
       "            </tr>\n",
       "            <tr>\n",
       "                        <th id=\"T_bb338_level0_row5\" class=\"row_heading level0 row5\" >Linear Regression</th>\n",
       "                        <td id=\"T_bb338_row5_col0\" class=\"data row5 col0\" >0.192000</td>\n",
       "                        <td id=\"T_bb338_row5_col1\" class=\"data row5 col1\" >0.063000</td>\n",
       "                        <td id=\"T_bb338_row5_col2\" class=\"data row5 col2\" >0.612000</td>\n",
       "            </tr>\n",
       "            <tr>\n",
       "                        <th id=\"T_bb338_level0_row6\" class=\"row_heading level0 row6\" >Deep Neural Network</th>\n",
       "                        <td id=\"T_bb338_row6_col0\" class=\"data row6 col0\" >0.324000</td>\n",
       "                        <td id=\"T_bb338_row6_col1\" class=\"data row6 col1\" >0.164000</td>\n",
       "                        <td id=\"T_bb338_row6_col2\" class=\"data row6 col2\" >-0.003000</td>\n",
       "            </tr>\n",
       "    </tbody></table>"
      ],
      "text/plain": [
       "<pandas.io.formats.style.Styler at 0x21bb3fe3a30>"
      ]
     },
     "execution_count": 37,
     "metadata": {},
     "output_type": "execute_result"
    }
   ],
   "source": [
    "results.sort_values('R2-score',ascending=False).style.background_gradient(cmap='Greens',subset=['R2-score'])"
   ]
  },
  {
   "cell_type": "markdown",
   "id": "19dca17a",
   "metadata": {},
   "source": [
    "# Conclusion:\n",
    "Except linear regression model, all other models have mean absolute error less than 10% of mean of target variable.\n",
    "For this dataset, XGBoost and Random Forest algorithms have shown best results as seen above "
   ]
  },
  {
   "cell_type": "code",
   "execution_count": null,
   "id": "a90fee42",
   "metadata": {},
   "outputs": [],
   "source": []
  }
 ],
 "metadata": {
  "kernelspec": {
   "display_name": "Python 3",
   "language": "python",
   "name": "python3"
  },
  "language_info": {
   "codemirror_mode": {
    "name": "ipython",
    "version": 3
   },
   "file_extension": ".py",
   "mimetype": "text/x-python",
   "name": "python",
   "nbconvert_exporter": "python",
   "pygments_lexer": "ipython3",
   "version": "3.8.8"
  }
 },
 "nbformat": 4,
 "nbformat_minor": 5
}
